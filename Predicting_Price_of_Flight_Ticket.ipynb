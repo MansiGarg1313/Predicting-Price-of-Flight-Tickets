{
 "cells": [
  {
   "cell_type": "code",
   "execution_count": 1,
   "id": "6e9845a6",
   "metadata": {},
   "outputs": [],
   "source": [
    "# Importing required libraries\n",
    "import numpy as np\n",
    "import pandas as pd\n",
    "import seaborn as sns\n",
    "import matplotlib.pyplot as plt\n",
    "from scipy import stats\n",
    "\n",
    "import warnings\n",
    "warnings.filterwarnings('ignore')"
   ]
  },
  {
   "cell_type": "code",
   "execution_count": 2,
   "id": "9f8e1d78",
   "metadata": {},
   "outputs": [],
   "source": [
    "df = pd.read_csv(r\"D:\\GreatLakes\\Capstone_project\\Flight_ticket_price.csv\")"
   ]
  },
  {
   "cell_type": "code",
   "execution_count": 3,
   "id": "7f9bbdd6",
   "metadata": {},
   "outputs": [
    {
     "data": {
      "text/html": [
       "<div>\n",
       "<style scoped>\n",
       "    .dataframe tbody tr th:only-of-type {\n",
       "        vertical-align: middle;\n",
       "    }\n",
       "\n",
       "    .dataframe tbody tr th {\n",
       "        vertical-align: top;\n",
       "    }\n",
       "\n",
       "    .dataframe thead th {\n",
       "        text-align: right;\n",
       "    }\n",
       "</style>\n",
       "<table border=\"1\" class=\"dataframe\">\n",
       "  <thead>\n",
       "    <tr style=\"text-align: right;\">\n",
       "      <th></th>\n",
       "      <th>Unnamed: 0</th>\n",
       "      <th>airline</th>\n",
       "      <th>flight</th>\n",
       "      <th>source_city</th>\n",
       "      <th>departure_time</th>\n",
       "      <th>stops</th>\n",
       "      <th>arrival_time</th>\n",
       "      <th>destination_city</th>\n",
       "      <th>Class</th>\n",
       "      <th>duration</th>\n",
       "      <th>days_left</th>\n",
       "      <th>price</th>\n",
       "    </tr>\n",
       "  </thead>\n",
       "  <tbody>\n",
       "    <tr>\n",
       "      <th>0</th>\n",
       "      <td>0</td>\n",
       "      <td>SpiceJet</td>\n",
       "      <td>SG-8709</td>\n",
       "      <td>Delhi</td>\n",
       "      <td>Evening</td>\n",
       "      <td>zero</td>\n",
       "      <td>Night</td>\n",
       "      <td>Mumbai</td>\n",
       "      <td>Economy</td>\n",
       "      <td>2.17</td>\n",
       "      <td>1</td>\n",
       "      <td>5953</td>\n",
       "    </tr>\n",
       "    <tr>\n",
       "      <th>1</th>\n",
       "      <td>1</td>\n",
       "      <td>SpiceJet</td>\n",
       "      <td>SG-8157</td>\n",
       "      <td>Delhi</td>\n",
       "      <td>Early_Morning</td>\n",
       "      <td>zero</td>\n",
       "      <td>Morning</td>\n",
       "      <td>Mumbai</td>\n",
       "      <td>Economy</td>\n",
       "      <td>2.33</td>\n",
       "      <td>1</td>\n",
       "      <td>5953</td>\n",
       "    </tr>\n",
       "    <tr>\n",
       "      <th>2</th>\n",
       "      <td>2</td>\n",
       "      <td>AirAsia</td>\n",
       "      <td>I5-764</td>\n",
       "      <td>Delhi</td>\n",
       "      <td>Early_Morning</td>\n",
       "      <td>zero</td>\n",
       "      <td>Early_Morning</td>\n",
       "      <td>Mumbai</td>\n",
       "      <td>Economy</td>\n",
       "      <td>2.17</td>\n",
       "      <td>1</td>\n",
       "      <td>5956</td>\n",
       "    </tr>\n",
       "    <tr>\n",
       "      <th>3</th>\n",
       "      <td>3</td>\n",
       "      <td>Vistara</td>\n",
       "      <td>UK-995</td>\n",
       "      <td>Delhi</td>\n",
       "      <td>Morning</td>\n",
       "      <td>zero</td>\n",
       "      <td>Afternoon</td>\n",
       "      <td>Mumbai</td>\n",
       "      <td>Economy</td>\n",
       "      <td>2.25</td>\n",
       "      <td>1</td>\n",
       "      <td>5955</td>\n",
       "    </tr>\n",
       "    <tr>\n",
       "      <th>4</th>\n",
       "      <td>4</td>\n",
       "      <td>Vistara</td>\n",
       "      <td>UK-963</td>\n",
       "      <td>Delhi</td>\n",
       "      <td>Morning</td>\n",
       "      <td>zero</td>\n",
       "      <td>Morning</td>\n",
       "      <td>Mumbai</td>\n",
       "      <td>Economy</td>\n",
       "      <td>2.33</td>\n",
       "      <td>1</td>\n",
       "      <td>5955</td>\n",
       "    </tr>\n",
       "  </tbody>\n",
       "</table>\n",
       "</div>"
      ],
      "text/plain": [
       "   Unnamed: 0   airline   flight source_city departure_time stops  \\\n",
       "0           0  SpiceJet  SG-8709       Delhi        Evening  zero   \n",
       "1           1  SpiceJet  SG-8157       Delhi  Early_Morning  zero   \n",
       "2           2   AirAsia   I5-764       Delhi  Early_Morning  zero   \n",
       "3           3   Vistara   UK-995       Delhi        Morning  zero   \n",
       "4           4   Vistara   UK-963       Delhi        Morning  zero   \n",
       "\n",
       "    arrival_time destination_city    Class  duration  days_left  price  \n",
       "0          Night           Mumbai  Economy      2.17          1   5953  \n",
       "1        Morning           Mumbai  Economy      2.33          1   5953  \n",
       "2  Early_Morning           Mumbai  Economy      2.17          1   5956  \n",
       "3      Afternoon           Mumbai  Economy      2.25          1   5955  \n",
       "4        Morning           Mumbai  Economy      2.33          1   5955  "
      ]
     },
     "execution_count": 3,
     "metadata": {},
     "output_type": "execute_result"
    }
   ],
   "source": [
    "df.head()"
   ]
  },
  {
   "cell_type": "code",
   "execution_count": 4,
   "id": "238eb176",
   "metadata": {},
   "outputs": [],
   "source": [
    "# Dropping the unnamed:0\n",
    "del df['Unnamed: 0']"
   ]
  },
  {
   "cell_type": "code",
   "execution_count": 5,
   "id": "f3095a38",
   "metadata": {},
   "outputs": [
    {
     "data": {
      "text/plain": [
       "(300153, 11)"
      ]
     },
     "execution_count": 5,
     "metadata": {},
     "output_type": "execute_result"
    }
   ],
   "source": [
    "df.shape"
   ]
  },
  {
   "cell_type": "code",
   "execution_count": 6,
   "id": "4aa0e25e",
   "metadata": {},
   "outputs": [
    {
     "name": "stdout",
     "output_type": "stream",
     "text": [
      "<class 'pandas.core.frame.DataFrame'>\n",
      "RangeIndex: 300153 entries, 0 to 300152\n",
      "Data columns (total 11 columns):\n",
      " #   Column            Non-Null Count   Dtype  \n",
      "---  ------            --------------   -----  \n",
      " 0   airline           300153 non-null  object \n",
      " 1   flight            300153 non-null  object \n",
      " 2   source_city       300153 non-null  object \n",
      " 3   departure_time    300153 non-null  object \n",
      " 4   stops             300153 non-null  object \n",
      " 5   arrival_time      300153 non-null  object \n",
      " 6   destination_city  300153 non-null  object \n",
      " 7   Class             300153 non-null  object \n",
      " 8   duration          300153 non-null  float64\n",
      " 9   days_left         300153 non-null  int64  \n",
      " 10  price             300153 non-null  int64  \n",
      "dtypes: float64(1), int64(2), object(8)\n",
      "memory usage: 25.2+ MB\n"
     ]
    }
   ],
   "source": [
    "df.info()"
   ]
  },
  {
   "cell_type": "code",
   "execution_count": 7,
   "id": "501ccdc5",
   "metadata": {},
   "outputs": [
    {
     "data": {
      "text/html": [
       "<div>\n",
       "<style scoped>\n",
       "    .dataframe tbody tr th:only-of-type {\n",
       "        vertical-align: middle;\n",
       "    }\n",
       "\n",
       "    .dataframe tbody tr th {\n",
       "        vertical-align: top;\n",
       "    }\n",
       "\n",
       "    .dataframe thead th {\n",
       "        text-align: right;\n",
       "    }\n",
       "</style>\n",
       "<table border=\"1\" class=\"dataframe\">\n",
       "  <thead>\n",
       "    <tr style=\"text-align: right;\">\n",
       "      <th></th>\n",
       "      <th>duration</th>\n",
       "      <th>days_left</th>\n",
       "      <th>price</th>\n",
       "    </tr>\n",
       "  </thead>\n",
       "  <tbody>\n",
       "    <tr>\n",
       "      <th>duration</th>\n",
       "      <td>1.000000</td>\n",
       "      <td>-0.039157</td>\n",
       "      <td>0.204222</td>\n",
       "    </tr>\n",
       "    <tr>\n",
       "      <th>days_left</th>\n",
       "      <td>-0.039157</td>\n",
       "      <td>1.000000</td>\n",
       "      <td>-0.091949</td>\n",
       "    </tr>\n",
       "    <tr>\n",
       "      <th>price</th>\n",
       "      <td>0.204222</td>\n",
       "      <td>-0.091949</td>\n",
       "      <td>1.000000</td>\n",
       "    </tr>\n",
       "  </tbody>\n",
       "</table>\n",
       "</div>"
      ],
      "text/plain": [
       "           duration  days_left     price\n",
       "duration   1.000000  -0.039157  0.204222\n",
       "days_left -0.039157   1.000000 -0.091949\n",
       "price      0.204222  -0.091949  1.000000"
      ]
     },
     "execution_count": 7,
     "metadata": {},
     "output_type": "execute_result"
    }
   ],
   "source": [
    "df.corr(numeric_only=True)"
   ]
  },
  {
   "cell_type": "code",
   "execution_count": 8,
   "id": "dfab9e7a",
   "metadata": {},
   "outputs": [
    {
     "data": {
      "text/html": [
       "<div>\n",
       "<style scoped>\n",
       "    .dataframe tbody tr th:only-of-type {\n",
       "        vertical-align: middle;\n",
       "    }\n",
       "\n",
       "    .dataframe tbody tr th {\n",
       "        vertical-align: top;\n",
       "    }\n",
       "\n",
       "    .dataframe thead th {\n",
       "        text-align: right;\n",
       "    }\n",
       "</style>\n",
       "<table border=\"1\" class=\"dataframe\">\n",
       "  <thead>\n",
       "    <tr style=\"text-align: right;\">\n",
       "      <th></th>\n",
       "      <th>airline</th>\n",
       "      <th>flight</th>\n",
       "      <th>source_city</th>\n",
       "      <th>departure_time</th>\n",
       "      <th>stops</th>\n",
       "      <th>arrival_time</th>\n",
       "      <th>destination_city</th>\n",
       "      <th>Class</th>\n",
       "    </tr>\n",
       "  </thead>\n",
       "  <tbody>\n",
       "    <tr>\n",
       "      <th>count</th>\n",
       "      <td>300153</td>\n",
       "      <td>300153</td>\n",
       "      <td>300153</td>\n",
       "      <td>300153</td>\n",
       "      <td>300153</td>\n",
       "      <td>300153</td>\n",
       "      <td>300153</td>\n",
       "      <td>300153</td>\n",
       "    </tr>\n",
       "    <tr>\n",
       "      <th>unique</th>\n",
       "      <td>6</td>\n",
       "      <td>1561</td>\n",
       "      <td>6</td>\n",
       "      <td>6</td>\n",
       "      <td>3</td>\n",
       "      <td>6</td>\n",
       "      <td>6</td>\n",
       "      <td>2</td>\n",
       "    </tr>\n",
       "    <tr>\n",
       "      <th>top</th>\n",
       "      <td>Vistara</td>\n",
       "      <td>UK-706</td>\n",
       "      <td>Delhi</td>\n",
       "      <td>Morning</td>\n",
       "      <td>one</td>\n",
       "      <td>Night</td>\n",
       "      <td>Mumbai</td>\n",
       "      <td>Economy</td>\n",
       "    </tr>\n",
       "    <tr>\n",
       "      <th>freq</th>\n",
       "      <td>127859</td>\n",
       "      <td>3235</td>\n",
       "      <td>61343</td>\n",
       "      <td>71146</td>\n",
       "      <td>250863</td>\n",
       "      <td>91538</td>\n",
       "      <td>59097</td>\n",
       "      <td>206666</td>\n",
       "    </tr>\n",
       "  </tbody>\n",
       "</table>\n",
       "</div>"
      ],
      "text/plain": [
       "        airline  flight source_city departure_time   stops arrival_time  \\\n",
       "count    300153  300153      300153         300153  300153       300153   \n",
       "unique        6    1561           6              6       3            6   \n",
       "top     Vistara  UK-706       Delhi        Morning     one        Night   \n",
       "freq     127859    3235       61343          71146  250863        91538   \n",
       "\n",
       "       destination_city    Class  \n",
       "count            300153   300153  \n",
       "unique                6        2  \n",
       "top              Mumbai  Economy  \n",
       "freq              59097   206666  "
      ]
     },
     "execution_count": 8,
     "metadata": {},
     "output_type": "execute_result"
    }
   ],
   "source": [
    "df.describe(include=object)"
   ]
  },
  {
   "cell_type": "markdown",
   "id": "0bd50a81",
   "metadata": {},
   "source": [
    "### Identifying Missing Values"
   ]
  },
  {
   "cell_type": "code",
   "execution_count": 9,
   "id": "1240170d",
   "metadata": {},
   "outputs": [
    {
     "data": {
      "text/plain": [
       "airline             0\n",
       "flight              0\n",
       "source_city         0\n",
       "departure_time      0\n",
       "stops               0\n",
       "arrival_time        0\n",
       "destination_city    0\n",
       "Class               0\n",
       "duration            0\n",
       "days_left           0\n",
       "price               0\n",
       "dtype: int64"
      ]
     },
     "execution_count": 9,
     "metadata": {},
     "output_type": "execute_result"
    }
   ],
   "source": [
    "df.isnull().sum()\n",
    "# no missing values were found in the dataset"
   ]
  },
  {
   "cell_type": "markdown",
   "id": "00069f28",
   "metadata": {},
   "source": [
    "### Identifying duplicate values "
   ]
  },
  {
   "cell_type": "code",
   "execution_count": 10,
   "id": "1d36b4d6",
   "metadata": {},
   "outputs": [
    {
     "data": {
      "text/html": [
       "<div>\n",
       "<style scoped>\n",
       "    .dataframe tbody tr th:only-of-type {\n",
       "        vertical-align: middle;\n",
       "    }\n",
       "\n",
       "    .dataframe tbody tr th {\n",
       "        vertical-align: top;\n",
       "    }\n",
       "\n",
       "    .dataframe thead th {\n",
       "        text-align: right;\n",
       "    }\n",
       "</style>\n",
       "<table border=\"1\" class=\"dataframe\">\n",
       "  <thead>\n",
       "    <tr style=\"text-align: right;\">\n",
       "      <th></th>\n",
       "      <th>airline</th>\n",
       "      <th>flight</th>\n",
       "      <th>source_city</th>\n",
       "      <th>departure_time</th>\n",
       "      <th>stops</th>\n",
       "      <th>arrival_time</th>\n",
       "      <th>destination_city</th>\n",
       "      <th>Class</th>\n",
       "      <th>duration</th>\n",
       "      <th>days_left</th>\n",
       "      <th>price</th>\n",
       "    </tr>\n",
       "  </thead>\n",
       "  <tbody>\n",
       "  </tbody>\n",
       "</table>\n",
       "</div>"
      ],
      "text/plain": [
       "Empty DataFrame\n",
       "Columns: [airline, flight, source_city, departure_time, stops, arrival_time, destination_city, Class, duration, days_left, price]\n",
       "Index: []"
      ]
     },
     "execution_count": 10,
     "metadata": {},
     "output_type": "execute_result"
    }
   ],
   "source": [
    "df[df.duplicated()]\n",
    "# no duplicate values were found"
   ]
  },
  {
   "cell_type": "code",
   "execution_count": 11,
   "id": "bebc5b7b",
   "metadata": {},
   "outputs": [
    {
     "data": {
      "text/html": [
       "<div>\n",
       "<style scoped>\n",
       "    .dataframe tbody tr th:only-of-type {\n",
       "        vertical-align: middle;\n",
       "    }\n",
       "\n",
       "    .dataframe tbody tr th {\n",
       "        vertical-align: top;\n",
       "    }\n",
       "\n",
       "    .dataframe thead th {\n",
       "        text-align: right;\n",
       "    }\n",
       "</style>\n",
       "<table border=\"1\" class=\"dataframe\">\n",
       "  <thead>\n",
       "    <tr style=\"text-align: right;\">\n",
       "      <th></th>\n",
       "      <th>airline</th>\n",
       "      <th>flight</th>\n",
       "      <th>source_city</th>\n",
       "      <th>departure_time</th>\n",
       "      <th>stops</th>\n",
       "      <th>arrival_time</th>\n",
       "      <th>destination_city</th>\n",
       "      <th>Class</th>\n",
       "      <th>duration</th>\n",
       "      <th>days_left</th>\n",
       "      <th>price</th>\n",
       "    </tr>\n",
       "  </thead>\n",
       "  <tbody>\n",
       "    <tr>\n",
       "      <th>0</th>\n",
       "      <td>SpiceJet</td>\n",
       "      <td>SG-8709</td>\n",
       "      <td>Delhi</td>\n",
       "      <td>Evening</td>\n",
       "      <td>zero</td>\n",
       "      <td>Night</td>\n",
       "      <td>Mumbai</td>\n",
       "      <td>Economy</td>\n",
       "      <td>2.17</td>\n",
       "      <td>1</td>\n",
       "      <td>5953</td>\n",
       "    </tr>\n",
       "    <tr>\n",
       "      <th>1</th>\n",
       "      <td>SpiceJet</td>\n",
       "      <td>SG-8157</td>\n",
       "      <td>Delhi</td>\n",
       "      <td>Early_Morning</td>\n",
       "      <td>zero</td>\n",
       "      <td>Morning</td>\n",
       "      <td>Mumbai</td>\n",
       "      <td>Economy</td>\n",
       "      <td>2.33</td>\n",
       "      <td>1</td>\n",
       "      <td>5953</td>\n",
       "    </tr>\n",
       "  </tbody>\n",
       "</table>\n",
       "</div>"
      ],
      "text/plain": [
       "    airline   flight source_city departure_time stops arrival_time  \\\n",
       "0  SpiceJet  SG-8709       Delhi        Evening  zero        Night   \n",
       "1  SpiceJet  SG-8157       Delhi  Early_Morning  zero      Morning   \n",
       "\n",
       "  destination_city    Class  duration  days_left  price  \n",
       "0           Mumbai  Economy      2.17          1   5953  \n",
       "1           Mumbai  Economy      2.33          1   5953  "
      ]
     },
     "execution_count": 11,
     "metadata": {},
     "output_type": "execute_result"
    }
   ],
   "source": [
    "df.head(2)"
   ]
  },
  {
   "cell_type": "code",
   "execution_count": 12,
   "id": "f07a92d0",
   "metadata": {},
   "outputs": [],
   "source": [
    "# Segregating numerical and categorical attributes\n",
    "num_cols = ['duration','days_left']\n",
    "cat_cols = ['airline' ,'source_city' ,'departure_time' ,'stops' ,'arrival_time' ,'destination_city' ,'Class']"
   ]
  },
  {
   "cell_type": "markdown",
   "id": "10ac3645",
   "metadata": {},
   "source": [
    "### Univariate Analysis"
   ]
  },
  {
   "cell_type": "code",
   "execution_count": 13,
   "id": "57cbf5d8",
   "metadata": {},
   "outputs": [
    {
     "data": {
      "image/png": "[encoded data removed]",
      "text/plain": [
       "<Figure size 700x400 with 2 Axes>"
      ]
     },
     "metadata": {},
     "output_type": "display_data"
    }
   ],
   "source": [
    "t = 1\n",
    "plt.figure(figsize=(7,4))\n",
    "plt.suptitle('Univariate analysis of numerical attributes', color = 'purple', fontsize = 10)\n",
    "for i in num_cols:\n",
    "    plt.subplot(1,2,t)\n",
    "    sns.kdeplot(df, x = i, fill=True, color = 'purple')\n",
    "    plt.xlabel(i)\n",
    "    t = t+1\n",
    "plt.tight_layout()\n",
    "plt.show()"
   ]
  },
  {
   "cell_type": "code",
   "execution_count": 14,
   "id": "36dcdea3",
   "metadata": {},
   "outputs": [
    {
     "data": {
      "image/png": "[encoded data removed]",
      "text/plain": [
       "<Figure size 900x700 with 7 Axes>"
      ]
     },
     "metadata": {},
     "output_type": "display_data"
    }
   ],
   "source": [
    "t = 1\n",
    "plt.figure(figsize=(9,7))\n",
    "plt.suptitle('Univariate analysis of categorical attributes', color = 'purple', fontsize = 10)\n",
    "for i in cat_cols:\n",
    "    plt.subplot(4,2,t)\n",
    "    sns.countplot(df, x = i, color = 'purple')\n",
    "    plt.xlabel(i)\n",
    "    plt.xticks(rotation=90)\n",
    "    t = t+1\n",
    "plt.subplots_adjust(hspace=2.2, wspace=0.9)\n",
    "plt.show()"
   ]
  },
  {
   "cell_type": "code",
   "execution_count": 15,
   "id": "9741f914",
   "metadata": {},
   "outputs": [
    {
     "data": {
      "text/plain": [
       "<Axes: xlabel='airline'>"
      ]
     },
     "execution_count": 15,
     "metadata": {},
     "output_type": "execute_result"
    },
    {
     "data": {
      "image/png": "[encoded data removed]",
      "text/plain": [
       "<Figure size 640x480 with 1 Axes>"
      ]
     },
     "metadata": {},
     "output_type": "display_data"
    }
   ],
   "source": [
    " df.groupby(by = 'airline')['price'].mean().sort_values(ascending=False).plot(kind = 'bar', color = 'purple')"
   ]
  },
  {
   "cell_type": "code",
   "execution_count": 16,
   "id": "d695ac6c",
   "metadata": {},
   "outputs": [
    {
     "data": {
      "text/plain": [
       "<Axes: xlabel='source_city'>"
      ]
     },
     "execution_count": 16,
     "metadata": {},
     "output_type": "execute_result"
    },
    {
     "data": {
      "image/png": "[encoded data removed]",
      "text/plain": [
       "<Figure size 640x480 with 1 Axes>"
      ]
     },
     "metadata": {},
     "output_type": "display_data"
    }
   ],
   "source": [
    "df.groupby(by = 'source_city')['price'].mean().sort_values(ascending=False).plot(kind = 'bar', color = 'purple')"
   ]
  },
  {
   "cell_type": "code",
   "execution_count": 17,
   "id": "bc8f86de",
   "metadata": {},
   "outputs": [
    {
     "data": {
      "text/plain": [
       "<Axes: xlabel='departure_time'>"
      ]
     },
     "execution_count": 17,
     "metadata": {},
     "output_type": "execute_result"
    },
    {
     "data": {
      "image/png": "[encoded data removed]",
      "text/plain": [
       "<Figure size 640x480 with 1 Axes>"
      ]
     },
     "metadata": {},
     "output_type": "display_data"
    }
   ],
   "source": [
    "df.groupby(by = 'departure_time')['price'].mean().sort_values(ascending=False).plot(kind = 'bar', color = 'purple')"
   ]
  },
  {
   "cell_type": "code",
   "execution_count": 18,
   "id": "f054e640",
   "metadata": {},
   "outputs": [
    {
     "data": {
      "text/plain": [
       "<Axes: xlabel='stops'>"
      ]
     },
     "execution_count": 18,
     "metadata": {},
     "output_type": "execute_result"
    },
    {
     "data": {
      "image/png": "[encoded data removed]",
      "text/plain": [
       "<Figure size 640x480 with 1 Axes>"
      ]
     },
     "metadata": {},
     "output_type": "display_data"
    }
   ],
   "source": [
    "df.groupby(by = 'stops')['price'].mean().sort_values(ascending=False).plot(kind = 'bar', color = 'purple')"
   ]
  },
  {
   "cell_type": "code",
   "execution_count": 19,
   "id": "20b481e0",
   "metadata": {},
   "outputs": [
    {
     "data": {
      "text/plain": [
       "<Axes: xlabel='arrival_time'>"
      ]
     },
     "execution_count": 19,
     "metadata": {},
     "output_type": "execute_result"
    },
    {
     "data": {
      "image/png": "[encoded data removed]",
      "text/plain": [
       "<Figure size 640x480 with 1 Axes>"
      ]
     },
     "metadata": {},
     "output_type": "display_data"
    }
   ],
   "source": [
    "df.groupby(by = 'arrival_time')['price'].mean().sort_values(ascending=False).plot(kind = 'bar', color = 'purple')"
   ]
  },
  {
   "cell_type": "code",
   "execution_count": 20,
   "id": "99ec778f",
   "metadata": {},
   "outputs": [
    {
     "data": {
      "text/plain": [
       "<Axes: xlabel='destination_city'>"
      ]
     },
     "execution_count": 20,
     "metadata": {},
     "output_type": "execute_result"
    },
    {
     "data": {
      "image/png": "[encoded data removed]",
      "text/plain": [
       "<Figure size 640x480 with 1 Axes>"
      ]
     },
     "metadata": {},
     "output_type": "display_data"
    }
   ],
   "source": [
    "df.groupby(by = 'destination_city')['price'].mean().sort_values(ascending=False).plot(kind = 'bar', color = 'purple')"
   ]
  },
  {
   "cell_type": "code",
   "execution_count": 21,
   "id": "d46e59d8",
   "metadata": {},
   "outputs": [
    {
     "data": {
      "text/plain": [
       "<Axes: xlabel='Class'>"
      ]
     },
     "execution_count": 21,
     "metadata": {},
     "output_type": "execute_result"
    },
    {
     "data": {
      "image/png": "[encoded data removed]",
      "text/plain": [
       "<Figure size 640x480 with 1 Axes>"
      ]
     },
     "metadata": {},
     "output_type": "display_data"
    }
   ],
   "source": [
    "df.groupby(by = 'Class')['price'].mean().sort_values(ascending=False).plot(kind = 'bar', color = 'purple')"
   ]
  },
  {
   "cell_type": "markdown",
   "id": "a059fbe3",
   "metadata": {},
   "source": [
    "### Hypothesis testing for categorical columns"
   ]
  },
  {
   "cell_type": "code",
   "execution_count": 22,
   "id": "fdeabd65",
   "metadata": {},
   "outputs": [],
   "source": [
    "import statsmodels.formula.api as sfa\n",
    "from statsmodels.stats.anova import anova_lm"
   ]
  },
  {
   "cell_type": "code",
   "execution_count": 23,
   "id": "2a2cc0d5",
   "metadata": {},
   "outputs": [],
   "source": [
    "model = sfa.ols('price~airline+source_city+departure_time+stops+arrival_time+destination_city+Class',df).fit()"
   ]
  },
  {
   "cell_type": "code",
   "execution_count": 24,
   "id": "0043e758",
   "metadata": {},
   "outputs": [
    {
     "name": "stdout",
     "output_type": "stream",
     "text": [
      "                        df        sum_sq       mean_sq             F  \\\n",
      "airline                5.0  3.443051e+13  6.886101e+12  1.410006e+05   \n",
      "source_city            5.0  3.168568e+11  6.337135e+10  1.297599e+03   \n",
      "departure_time         5.0  4.523491e+10  9.046981e+09  1.852470e+02   \n",
      "stops                  2.0  2.770265e+12  1.385132e+12  2.836212e+04   \n",
      "arrival_time           5.0  1.467509e+11  2.935017e+10  6.009773e+02   \n",
      "destination_city       5.0  5.665196e+11  1.133039e+11  2.320023e+03   \n",
      "Class                  1.0  1.017015e+14  1.017015e+14  2.082451e+06   \n",
      "Residual          300124.0  1.465728e+13  4.883740e+07           NaN   \n",
      "\n",
      "                         PR(>F)  \n",
      "airline            0.000000e+00  \n",
      "source_city        0.000000e+00  \n",
      "departure_time    1.134171e-197  \n",
      "stops              0.000000e+00  \n",
      "arrival_time       0.000000e+00  \n",
      "destination_city   0.000000e+00  \n",
      "Class              0.000000e+00  \n",
      "Residual                    NaN  \n"
     ]
    }
   ],
   "source": [
    "print(anova_lm(model))"
   ]
  },
  {
   "cell_type": "markdown",
   "id": "6858817e",
   "metadata": {},
   "source": [
    "### Hypothesis Testing of numerical columns with target column"
   ]
  },
  {
   "cell_type": "code",
   "execution_count": 25,
   "id": "ddcd0752",
   "metadata": {},
   "outputs": [
    {
     "data": {
      "text/plain": [
       "MannwhitneyuResult(statistic=0.0, pvalue=0.0)"
      ]
     },
     "execution_count": 25,
     "metadata": {},
     "output_type": "execute_result"
    }
   ],
   "source": [
    "stats.mannwhitneyu(df['duration'], df['price'], alternative='two-sided')"
   ]
  },
  {
   "cell_type": "code",
   "execution_count": 26,
   "id": "fddc3b08",
   "metadata": {},
   "outputs": [
    {
     "data": {
      "text/plain": [
       "TtestResult(statistic=-503.9244329359575, pvalue=0.0, df=600304.0)"
      ]
     },
     "execution_count": 26,
     "metadata": {},
     "output_type": "execute_result"
    }
   ],
   "source": [
    "stats.ttest_ind(df['duration'], df['price'], alternative='two-sided')"
   ]
  },
  {
   "cell_type": "code",
   "execution_count": 27,
   "id": "cade7c97",
   "metadata": {},
   "outputs": [
    {
     "data": {
      "text/plain": [
       "MannwhitneyuResult(statistic=0.0, pvalue=0.0)"
      ]
     },
     "execution_count": 27,
     "metadata": {},
     "output_type": "execute_result"
    }
   ],
   "source": [
    "stats.mannwhitneyu(df['days_left'], df['price'], alternative='two-sided')"
   ]
  },
  {
   "cell_type": "code",
   "execution_count": 28,
   "id": "131a5181",
   "metadata": {},
   "outputs": [
    {
     "data": {
      "text/plain": [
       "TtestResult(statistic=-503.59166669505686, pvalue=0.0, df=600304.0)"
      ]
     },
     "execution_count": 28,
     "metadata": {},
     "output_type": "execute_result"
    }
   ],
   "source": [
    "stats.ttest_ind(df['days_left'], df['price'], alternative='two-sided')"
   ]
  },
  {
   "cell_type": "raw",
   "id": "2cf773a0",
   "metadata": {},
   "source": [
    "All of the attributes are significant to target column"
   ]
  },
  {
   "cell_type": "markdown",
   "id": "87239af1",
   "metadata": {},
   "source": [
    "### Encoding"
   ]
  },
  {
   "cell_type": "code",
   "execution_count": 29,
   "id": "f8b8d5a4",
   "metadata": {},
   "outputs": [
    {
     "data": {
      "text/html": [
       "<div>\n",
       "<style scoped>\n",
       "    .dataframe tbody tr th:only-of-type {\n",
       "        vertical-align: middle;\n",
       "    }\n",
       "\n",
       "    .dataframe tbody tr th {\n",
       "        vertical-align: top;\n",
       "    }\n",
       "\n",
       "    .dataframe thead th {\n",
       "        text-align: right;\n",
       "    }\n",
       "</style>\n",
       "<table border=\"1\" class=\"dataframe\">\n",
       "  <thead>\n",
       "    <tr style=\"text-align: right;\">\n",
       "      <th></th>\n",
       "      <th>airline</th>\n",
       "      <th>flight</th>\n",
       "      <th>source_city</th>\n",
       "      <th>departure_time</th>\n",
       "      <th>stops</th>\n",
       "      <th>arrival_time</th>\n",
       "      <th>destination_city</th>\n",
       "      <th>Class</th>\n",
       "      <th>duration</th>\n",
       "      <th>days_left</th>\n",
       "      <th>price</th>\n",
       "    </tr>\n",
       "  </thead>\n",
       "  <tbody>\n",
       "    <tr>\n",
       "      <th>0</th>\n",
       "      <td>SpiceJet</td>\n",
       "      <td>SG-8709</td>\n",
       "      <td>Delhi</td>\n",
       "      <td>Evening</td>\n",
       "      <td>zero</td>\n",
       "      <td>Night</td>\n",
       "      <td>Mumbai</td>\n",
       "      <td>Economy</td>\n",
       "      <td>2.17</td>\n",
       "      <td>1</td>\n",
       "      <td>5953</td>\n",
       "    </tr>\n",
       "    <tr>\n",
       "      <th>1</th>\n",
       "      <td>SpiceJet</td>\n",
       "      <td>SG-8157</td>\n",
       "      <td>Delhi</td>\n",
       "      <td>Early_Morning</td>\n",
       "      <td>zero</td>\n",
       "      <td>Morning</td>\n",
       "      <td>Mumbai</td>\n",
       "      <td>Economy</td>\n",
       "      <td>2.33</td>\n",
       "      <td>1</td>\n",
       "      <td>5953</td>\n",
       "    </tr>\n",
       "    <tr>\n",
       "      <th>2</th>\n",
       "      <td>AirAsia</td>\n",
       "      <td>I5-764</td>\n",
       "      <td>Delhi</td>\n",
       "      <td>Early_Morning</td>\n",
       "      <td>zero</td>\n",
       "      <td>Early_Morning</td>\n",
       "      <td>Mumbai</td>\n",
       "      <td>Economy</td>\n",
       "      <td>2.17</td>\n",
       "      <td>1</td>\n",
       "      <td>5956</td>\n",
       "    </tr>\n",
       "  </tbody>\n",
       "</table>\n",
       "</div>"
      ],
      "text/plain": [
       "    airline   flight source_city departure_time stops   arrival_time  \\\n",
       "0  SpiceJet  SG-8709       Delhi        Evening  zero          Night   \n",
       "1  SpiceJet  SG-8157       Delhi  Early_Morning  zero        Morning   \n",
       "2   AirAsia   I5-764       Delhi  Early_Morning  zero  Early_Morning   \n",
       "\n",
       "  destination_city    Class  duration  days_left  price  \n",
       "0           Mumbai  Economy      2.17          1   5953  \n",
       "1           Mumbai  Economy      2.33          1   5953  \n",
       "2           Mumbai  Economy      2.17          1   5956  "
      ]
     },
     "execution_count": 29,
     "metadata": {},
     "output_type": "execute_result"
    }
   ],
   "source": [
    "df.head(3)"
   ]
  },
  {
   "cell_type": "code",
   "execution_count": 30,
   "id": "9ae26bf6",
   "metadata": {},
   "outputs": [],
   "source": [
    "df['airline'].unique()\n",
    "df['airline'] = df['airline'].map(df['airline'].value_counts(normalize=True).to_dict())"
   ]
  },
  {
   "cell_type": "code",
   "execution_count": 31,
   "id": "e2f37ce4",
   "metadata": {},
   "outputs": [],
   "source": [
    "df['flight'] = df['flight'].map(df['flight'].value_counts(normalize=True).to_dict())"
   ]
  },
  {
   "cell_type": "code",
   "execution_count": 32,
   "id": "b1c82e59",
   "metadata": {},
   "outputs": [],
   "source": [
    "df['source_city'].unique()\n",
    "df['source_city'] = df['source_city'].map(df['source_city'].value_counts(normalize=True).to_dict())"
   ]
  },
  {
   "cell_type": "code",
   "execution_count": 33,
   "id": "1b4bfe66",
   "metadata": {},
   "outputs": [],
   "source": [
    "df['departure_time'].unique()\n",
    "df['departure_time'] = df['departure_time'].map(df['departure_time'].value_counts(normalize=True).to_dict())"
   ]
  },
  {
   "cell_type": "code",
   "execution_count": 34,
   "id": "967b80e1",
   "metadata": {},
   "outputs": [],
   "source": [
    "df['stops'].unique()\n",
    "df = pd.get_dummies(df, columns = ['stops'], drop_first=True, dtype=int)"
   ]
  },
  {
   "cell_type": "code",
   "execution_count": 35,
   "id": "88decd2e",
   "metadata": {},
   "outputs": [],
   "source": [
    "df['arrival_time'].unique()\n",
    "df['arrival_time'] = df['arrival_time'].map(df['arrival_time'].value_counts(normalize=True).to_dict())"
   ]
  },
  {
   "cell_type": "code",
   "execution_count": 36,
   "id": "bd8eae87",
   "metadata": {},
   "outputs": [],
   "source": [
    "df['destination_city'].unique()\n",
    "df['destination_city'] = df['destination_city'].map(df['destination_city'].value_counts(normalize=True).to_dict())"
   ]
  },
  {
   "cell_type": "code",
   "execution_count": 37,
   "id": "12a98e81",
   "metadata": {},
   "outputs": [],
   "source": [
    "df = pd.get_dummies(df, columns = ['Class'], drop_first=True, dtype=int)"
   ]
  },
  {
   "cell_type": "markdown",
   "id": "4d969d0a",
   "metadata": {},
   "source": [
    "### Splitting the data"
   ]
  },
  {
   "cell_type": "code",
   "execution_count": 38,
   "id": "f1495f57",
   "metadata": {},
   "outputs": [],
   "source": [
    "from sklearn.model_selection import train_test_split"
   ]
  },
  {
   "cell_type": "code",
   "execution_count": 39,
   "id": "137aca97",
   "metadata": {},
   "outputs": [],
   "source": [
    "x = df.drop('price', axis =1)\n",
    "y = df['price']"
   ]
  },
  {
   "cell_type": "code",
   "execution_count": 40,
   "id": "59930c50",
   "metadata": {},
   "outputs": [],
   "source": [
    "x_train, x_test, y_train, y_test = train_test_split(x,y, random_state=43, train_size=0.7)"
   ]
  },
  {
   "cell_type": "code",
   "execution_count": 41,
   "id": "047bb2a7",
   "metadata": {},
   "outputs": [
    {
     "name": "stdout",
     "output_type": "stream",
     "text": [
      "(210107, 11) (90046, 11) (210107,) (90046,)\n"
     ]
    }
   ],
   "source": [
    "print(x_train.shape, x_test.shape, y_train.shape, y_test.shape)"
   ]
  },
  {
   "cell_type": "markdown",
   "id": "e67433e3",
   "metadata": {},
   "source": [
    "### Identifying Outliers"
   ]
  },
  {
   "cell_type": "code",
   "execution_count": 42,
   "id": "9a182d3f",
   "metadata": {},
   "outputs": [
    {
     "data": {
      "image/png": "[encoded data removed]",
      "text/plain": [
       "<Figure size 700x400 with 2 Axes>"
      ]
     },
     "metadata": {},
     "output_type": "display_data"
    }
   ],
   "source": [
    "t = 1\n",
    "plt.figure(figsize=(7,4))\n",
    "plt.suptitle('Identifying outliers in training data', color = 'purple', fontsize = 10)\n",
    "for i in num_cols:\n",
    "    plt.subplot(1,2,t)\n",
    "    sns.boxplot(x_train, x = i, fill=True, color = 'purple')\n",
    "    plt.xlabel(i)\n",
    "    t = t+1\n",
    "plt.tight_layout()\n",
    "plt.show()\n",
    "\n",
    "# Outliers are found in duration column only and we will cap outliers below 40, rest we will keep in the dataset"
   ]
  },
  {
   "cell_type": "code",
   "execution_count": 43,
   "id": "6981566b",
   "metadata": {},
   "outputs": [],
   "source": [
    "x_train['duration'] = x_train['duration'].transform(lambda x: 40 if 40>x>30 else x)"
   ]
  },
  {
   "cell_type": "code",
   "execution_count": 44,
   "id": "d5813cee",
   "metadata": {},
   "outputs": [
    {
     "data": {
      "text/plain": [
       "<Axes: xlabel='duration'>"
      ]
     },
     "execution_count": 44,
     "metadata": {},
     "output_type": "execute_result"
    },
    {
     "data": {
      "image/png": "[encoded data removed]",
      "text/plain": [
       "<Figure size 640x480 with 1 Axes>"
      ]
     },
     "metadata": {},
     "output_type": "display_data"
    }
   ],
   "source": [
    "sns.boxplot(x=  x_train['duration'], color ='purple')"
   ]
  },
  {
   "cell_type": "markdown",
   "id": "e7e2bbbe",
   "metadata": {},
   "source": [
    "### Modelling"
   ]
  },
  {
   "cell_type": "markdown",
   "id": "30edf247",
   "metadata": {},
   "source": [
    "### Linear Regression (Base Model)"
   ]
  },
  {
   "cell_type": "code",
   "execution_count": 63,
   "id": "e00483df",
   "metadata": {},
   "outputs": [],
   "source": [
    "from sklearn.linear_model import LinearRegression,Ridge\n",
    "from sklearn.tree import DecisionTreeRegressor\n",
    "from xgboost import XGBRegressor\n",
    "\n",
    "from sklearn.model_selection import GridSearchCV, cross_val_score\n",
    "from sklearn.metrics import r2_score, mean_squared_error, mean_absolute_error"
   ]
  },
  {
   "cell_type": "code",
   "execution_count": 46,
   "id": "e911be17",
   "metadata": {},
   "outputs": [],
   "source": [
    "lr = LinearRegression()\n",
    "model_lr = lr.fit(x_train,y_train)"
   ]
  },
  {
   "cell_type": "code",
   "execution_count": 47,
   "id": "8d19bdce",
   "metadata": {},
   "outputs": [],
   "source": [
    "y_pred_lr = model_lr.predict(x_test)"
   ]
  },
  {
   "cell_type": "code",
   "execution_count": 48,
   "id": "e6a09671",
   "metadata": {},
   "outputs": [
    {
     "data": {
      "text/plain": [
       "0.9055614169184393"
      ]
     },
     "execution_count": 48,
     "metadata": {},
     "output_type": "execute_result"
    }
   ],
   "source": [
    "model_lr.score(x_train,y_train)"
   ]
  },
  {
   "cell_type": "code",
   "execution_count": 49,
   "id": "1cc98a1d",
   "metadata": {},
   "outputs": [
    {
     "data": {
      "text/plain": [
       "0.9055614169184393"
      ]
     },
     "execution_count": 49,
     "metadata": {},
     "output_type": "execute_result"
    }
   ],
   "source": [
    "model_lr.score(x_train,y_train)"
   ]
  },
  {
   "cell_type": "code",
   "execution_count": 50,
   "id": "78a72e8f",
   "metadata": {
    "scrolled": true
   },
   "outputs": [
    {
     "name": "stdout",
     "output_type": "stream",
     "text": [
      "R2_Score: 0.905629851950137\n",
      "MSE : 48623339.07791177\n",
      "RMSE : 6973.043745589996\n",
      "MAE : 4575.461350815573\n"
     ]
    }
   ],
   "source": [
    "print(f'R2_Score: {r2_score(y_test,y_pred_lr)}')\n",
    "print(f'MSE : {mean_squared_error(y_test,y_pred_lr)}')\n",
    "print(f'RMSE : {mean_squared_error(y_test,y_pred_lr, squared=False)}')\n",
    "print(f'MAE : {mean_absolute_error(y_test,y_pred_lr)}')"
   ]
  },
  {
   "cell_type": "code",
   "execution_count": 51,
   "id": "b260c29c",
   "metadata": {},
   "outputs": [
    {
     "data": {
      "text/plain": [
       "array([0.90358844, 0.90685207, 0.9050496 , 0.90563952, 0.9095254 ,\n",
       "       0.90471639, 0.90346272])"
      ]
     },
     "execution_count": 51,
     "metadata": {},
     "output_type": "execute_result"
    }
   ],
   "source": [
    "cross_val_score(estimator=LinearRegression(), X= x_train, y=y_train , scoring='r2', cv=7)"
   ]
  },
  {
   "cell_type": "code",
   "execution_count": 53,
   "id": "7f20f2d7",
   "metadata": {},
   "outputs": [
    {
     "name": "stdout",
     "output_type": "stream",
     "text": [
      "r2_score: 0.9055614169184393\n"
     ]
    }
   ],
   "source": [
    "print(f'r2_score: {r2_score(y_train, model_lr.predict(x_train))}')"
   ]
  },
  {
   "cell_type": "markdown",
   "id": "1628789d",
   "metadata": {},
   "source": [
    "### Decision Tree Regressor using GridSeachCV"
   ]
  },
  {
   "cell_type": "code",
   "execution_count": 54,
   "id": "207a56ba",
   "metadata": {},
   "outputs": [],
   "source": [
    "DecisionTreeRegressor()\n",
    "grid = {'max_depth': [4,5,6], 'min_samples_split': [10,20,30]}\n",
    "gscv = GridSearchCV(estimator=DecisionTreeRegressor(), param_grid=grid, cv=5, scoring='r2')\n",
    "model_cv = gscv.fit(x_train, y_train)"
   ]
  },
  {
   "cell_type": "code",
   "execution_count": 55,
   "id": "31ffe06c",
   "metadata": {},
   "outputs": [
    {
     "data": {
      "text/plain": [
       "{'max_depth': 6, 'min_samples_split': 30}"
      ]
     },
     "execution_count": 55,
     "metadata": {},
     "output_type": "execute_result"
    }
   ],
   "source": [
    "model_cv.best_params_"
   ]
  },
  {
   "cell_type": "code",
   "execution_count": 58,
   "id": "f089237f",
   "metadata": {},
   "outputs": [],
   "source": [
    "dt = DecisionTreeRegressor(**model_cv.best_params_)\n",
    "model_dt = dt.fit(x_train,y_train)"
   ]
  },
  {
   "cell_type": "code",
   "execution_count": 59,
   "id": "34699f36",
   "metadata": {},
   "outputs": [],
   "source": [
    "y_pred_dt = model_dt.predict(x_test)"
   ]
  },
  {
   "cell_type": "code",
   "execution_count": 60,
   "id": "4591d27d",
   "metadata": {},
   "outputs": [
    {
     "name": "stdout",
     "output_type": "stream",
     "text": [
      "R2_Score: 0.9483532528918502\n",
      "MSE : 26610505.00401722\n",
      "RMSE : 5158.537099218849\n",
      "MAE : 2970.244941331558\n"
     ]
    }
   ],
   "source": [
    "print(f'R2_Score: {r2_score(y_test,y_pred_dt)}')\n",
    "print(f'MSE : {mean_squared_error(y_test,y_pred_dt)}')\n",
    "print(f'RMSE : {mean_squared_error(y_test,y_pred_dt, squared=False)}')\n",
    "print(f'MAE : {mean_absolute_error(y_test,y_pred_dt)}')"
   ]
  },
  {
   "cell_type": "code",
   "execution_count": 61,
   "id": "38a2ec85",
   "metadata": {},
   "outputs": [
    {
     "data": {
      "text/plain": [
       "array([0.94861824, 0.95056453, 0.94893684, 0.94791174, 0.9502046 ,\n",
       "       0.94824364, 0.94855669])"
      ]
     },
     "execution_count": 61,
     "metadata": {},
     "output_type": "execute_result"
    }
   ],
   "source": [
    "cross_val_score(estimator=DecisionTreeRegressor(max_depth= 6, min_samples_split= 30), X= x_train, y=y_train , scoring='r2', cv=7)"
   ]
  },
  {
   "cell_type": "code",
   "execution_count": 62,
   "id": "e8d662d8",
   "metadata": {},
   "outputs": [
    {
     "name": "stdout",
     "output_type": "stream",
     "text": [
      "r2_score: 0.9491896699051184\n"
     ]
    }
   ],
   "source": [
    "print(f'r2_score: {r2_score(y_train, model_dt.predict(x_train))}')"
   ]
  },
  {
   "cell_type": "markdown",
   "id": "0b0203ea",
   "metadata": {},
   "source": [
    "### Ridge using GridSearchCV"
   ]
  },
  {
   "cell_type": "code",
   "execution_count": 75,
   "id": "9e9985d9",
   "metadata": {},
   "outputs": [],
   "source": [
    "rd = Ridge()\n",
    "grid1 = {'alpha':[1,1.5,2,2.5]}\n",
    "gscv1 = GridSearchCV(estimator=Ridge(), param_grid=grid1, cv=5, scoring='r2')\n",
    "model_cv1 = gscv1.fit(x_train,y_train)"
   ]
  },
  {
   "cell_type": "code",
   "execution_count": 76,
   "id": "4fdd9149",
   "metadata": {},
   "outputs": [
    {
     "data": {
      "text/plain": [
       "{'alpha': 1}"
      ]
     },
     "execution_count": 76,
     "metadata": {},
     "output_type": "execute_result"
    }
   ],
   "source": [
    "model_cv1.best_params_"
   ]
  },
  {
   "cell_type": "code",
   "execution_count": 77,
   "id": "7f743a0b",
   "metadata": {},
   "outputs": [],
   "source": [
    "rd = Ridge(alpha=1)\n",
    "model_rd = rd.fit(x_train,y_train)"
   ]
  },
  {
   "cell_type": "code",
   "execution_count": 78,
   "id": "de9a8922",
   "metadata": {},
   "outputs": [],
   "source": [
    "y_pred_rd = model_rd.predict(x_test)"
   ]
  },
  {
   "cell_type": "code",
   "execution_count": 79,
   "id": "764a71ce",
   "metadata": {},
   "outputs": [
    {
     "name": "stdout",
     "output_type": "stream",
     "text": [
      "R2_Score: 0.905245392581476\n",
      "MSE : 48821428.18374015\n",
      "RMSE : 6987.233228091084\n",
      "MAE : 4574.49391572956\n"
     ]
    }
   ],
   "source": [
    "print(f'R2_Score: {r2_score(y_test,y_pred_rd)}')\n",
    "print(f'MSE : {mean_squared_error(y_test,y_pred_rd)}')\n",
    "print(f'RMSE : {mean_squared_error(y_test,y_pred_rd, squared=False)}')\n",
    "print(f'MAE : {mean_absolute_error(y_test,y_pred_rd)}')"
   ]
  },
  {
   "cell_type": "markdown",
   "id": "08e255dc",
   "metadata": {},
   "source": [
    "### XGBRegressor using GridSearchCV"
   ]
  },
  {
   "cell_type": "code",
   "execution_count": 82,
   "id": "b3a7ec97",
   "metadata": {},
   "outputs": [],
   "source": [
    "grid2 = {'max_depth':[3,4,5],'learning_rate': [0.1,0.2,0.3],'gamma':[1.0,1.5,2.0]}\n",
    "gscv2 = GridSearchCV(estimator=XGBRegressor(n_estimators =100), param_grid=grid2, cv=5, scoring='r2')\n",
    "model_cv2 = gscv2.fit(x_train,y_train)"
   ]
  },
  {
   "cell_type": "code",
   "execution_count": 83,
   "id": "7a4fc89f",
   "metadata": {},
   "outputs": [
    {
     "data": {
      "text/plain": [
       "{'gamma': 1.0, 'learning_rate': 0.3, 'max_depth': 5}"
      ]
     },
     "execution_count": 83,
     "metadata": {},
     "output_type": "execute_result"
    }
   ],
   "source": [
    "model_cv2.best_params_"
   ]
  },
  {
   "cell_type": "code",
   "execution_count": 84,
   "id": "99bb384d",
   "metadata": {},
   "outputs": [],
   "source": [
    "xgb= XGBRegressor(n_estimators =100,gamma= 1.0, learning_rate=0.3,max_depth=5 )\n",
    "model_xgb = xgb.fit(x_train, y_train)"
   ]
  },
  {
   "cell_type": "code",
   "execution_count": 85,
   "id": "1d9019d5",
   "metadata": {},
   "outputs": [],
   "source": [
    "y_pred_xgb = model_xgb.predict(x_test)"
   ]
  },
  {
   "cell_type": "code",
   "execution_count": 86,
   "id": "fb2cf5cf",
   "metadata": {},
   "outputs": [
    {
     "name": "stdout",
     "output_type": "stream",
     "text": [
      "R2_Score: 0.979198203588296\n",
      "MSE : 10717931.689812994\n",
      "RMSE : 3273.8252381293955\n",
      "MAE : 1899.6963823158897\n"
     ]
    }
   ],
   "source": [
    "print(f'R2_Score: {r2_score(y_test,y_pred_xgb)}')\n",
    "print(f'MSE : {mean_squared_error(y_test,y_pred_xgb)}')\n",
    "print(f'RMSE : {mean_squared_error(y_test,y_pred_xgb, squared=False)}')\n",
    "print(f'MAE : {mean_absolute_error(y_test,y_pred_xgb)}')"
   ]
  },
  {
   "cell_type": "code",
   "execution_count": 87,
   "id": "d7e7e6a5",
   "metadata": {},
   "outputs": [
    {
     "data": {
      "text/plain": [
       "array([0.97870814, 0.9793367 , 0.97878276, 0.97875533, 0.97957465,\n",
       "       0.9775808 , 0.97903999])"
      ]
     },
     "execution_count": 87,
     "metadata": {},
     "output_type": "execute_result"
    }
   ],
   "source": [
    "cross_val_score(estimator=XGBRegressor(n_estimators =100,gamma= 1.0, learning_rate=0.3,max_depth=5 ), X= x_train, y=y_train, cv=7, scoring='r2')"
   ]
  }
 ],
 "metadata": {
  "kernelspec": {
   "display_name": "Python 3 (ipykernel)",
   "language": "python",
   "name": "python3"
  },
  "language_info": {
   "codemirror_mode": {
    "name": "ipython",
    "version": 3
   },
   "file_extension": ".py",
   "mimetype": "text/x-python",
   "name": "python",
   "nbconvert_exporter": "python",
   "pygments_lexer": "ipython3",
   "version": "3.11.7"
  }
 },
 "nbformat": 4,
 "nbformat_minor": 5
}
